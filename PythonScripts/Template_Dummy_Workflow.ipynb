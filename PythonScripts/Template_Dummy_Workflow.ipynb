{
 "cells": [
  {
   "cell_type": "markdown",
   "metadata": {
    "slideshow": {
     "slide_type": "-"
    }
   },
   "source": [
    "# Workflow of the Python Inputscript for multispecies"
   ]
  },
  {
   "cell_type": "markdown",
   "metadata": {},
   "source": [
    "## This File should be in the Working Directory of the Files or somewhere else, but not in the Source Code like this Template File. So Copy this File and then rename it and use it."
   ]
  },
  {
   "cell_type": "markdown",
   "metadata": {},
   "source": [
    "Example notebook to demonstrate/teach basic usage of the Python code and a basic workflow on how to get/plot data.\n",
    "\n",
    "\n",
    "Before starting:\n",
    "- check out the code from github (acount required) if you have not already.\n",
    "- set the environment variable 'NEO2PATH' to your neo-2 directory in .bashrc (or equivalent of your system)."
   ]
  },
  {
   "cell_type": "markdown",
   "metadata": {},
   "source": [
    "This first cell makes sure that the python scripts of the neo2 repository can be found. This is done by making use of the 'NEO2PATH' environment variable.\n",
    "\n",
    "_HINT: those cells with a 'In' next to it, are input cells, to execute one, first activate the cell, e.g. by clicking on it, and then press **shift+enter**.\n",
    "Another possibility is to use the entry **Cell -> Run Cells** in the menu above_"
   ]
  },
  {
   "cell_type": "code",
   "execution_count": null,
   "metadata": {},
   "outputs": [],
   "source": [
    "import sys\n",
    "import os\n",
    "try:\n",
    "  sys.path.append(os.path.join(os.environ['NEO2PATH'], 'PythonScripts'))\n",
    "except KeyError:\n",
    "  print(\"You need to set NEO2PATH in your .bashrc, e.g. export NEO2PATH=$HOME/neo-2/\")"
   ]
  },
  {
   "cell_type": "markdown",
   "metadata": {},
   "source": [
    "The second cell imports the modules/functions/classes we will use.\n",
    "This is done in one place to have a good overview of dependencies.\n",
    "For the same reason module names are retained: so it is easy to see where a command comes from."
   ]
  },
  {
   "cell_type": "code",
   "execution_count": null,
   "metadata": {
    "slideshow": {
     "slide_type": "notes"
    }
   },
   "outputs": [],
   "source": [
    "import neo2tools"
   ]
  },
  {
   "cell_type": "markdown",
   "metadata": {},
   "source": [
    "Create an Instance of the desired Run name the instance as you want e.g. Job1 and input the working directory (it doesn't need to already exist)"
   ]
  },
  {
   "cell_type": "code",
   "execution_count": null,
   "metadata": {},
   "outputs": [],
   "source": [
    "Job1 = neo2tools.SingleRun('/temp/__USERNAME__/Scans/Test-jupyter/single_run_test/')"
   ]
  },
  {
   "cell_type": "markdown",
   "metadata": {},
   "source": [
    "Compile the executable:"
   ]
  },
  {
   "cell_type": "code",
   "execution_count": null,
   "metadata": {},
   "outputs": [],
   "source": [
    "Job1.compile()"
   ]
  },
  {
   "cell_type": "markdown",
   "metadata": {},
   "source": [
    "* Optionally input the path of a neo2.in File, e.g. for a different setup. Otherwise a default neo2.in File wil be taken"
   ]
  },
  {
   "cell_type": "code",
   "execution_count": null,
   "metadata": {
    "scrolled": false,
    "slideshow": {
     "slide_type": "notes"
    }
   },
   "outputs": [],
   "source": [
    "Job1.SetNeo2file('/temp/__USERNAME__/Scans/Test-jupyter/single_run_test/neo2.in')"
   ]
  },
  {
   "cell_type": "markdown",
   "metadata": {},
   "source": [
    "* Optionally check of the required Files with the attribute reqfiles\n",
    "* // General consideration if a dict is the correct fileformat for the attribute reqfiles"
   ]
  },
  {
   "cell_type": "code",
   "execution_count": null,
   "metadata": {
    "scrolled": false,
    "slideshow": {
     "slide_type": "subslide"
    }
   },
   "outputs": [],
   "source": [
    "Job1.req_files_names"
   ]
  },
  {
   "cell_type": "markdown",
   "metadata": {},
   "source": [
    "Show directly the parameters of the used Job with the attribute neo_nml"
   ]
  },
  {
   "cell_type": "code",
   "execution_count": null,
   "metadata": {
    "scrolled": true,
    "slideshow": {
     "slide_type": "slide"
    }
   },
   "outputs": [],
   "source": [
    "Job1.neo_nml"
   ]
  },
  {
   "cell_type": "markdown",
   "metadata": {},
   "source": [
    "* Change desired parameter with index the desired Parameter directly"
   ]
  },
  {
   "cell_type": "code",
   "execution_count": null,
   "metadata": {},
   "outputs": [],
   "source": [
    "Job1.neo_nml['lag']=7"
   ]
  },
  {
   "cell_type": "markdown",
   "metadata": {},
   "source": [
    "* Or use the method Changevalue: (Here more parameter changes at once are possible)"
   ]
  },
  {
   "cell_type": "code",
   "execution_count": null,
   "metadata": {},
   "outputs": [],
   "source": [
    "Job1.neo_nml.chval(leg=4, legmax=4)"
   ]
  },
  {
   "cell_type": "markdown",
   "metadata": {},
   "source": [
    "Run the InitRuns of the multispecies versions"
   ]
  },
  {
   "cell_type": "code",
   "execution_count": null,
   "metadata": {
    "scrolled": true
   },
   "outputs": [],
   "source": [
    "Job1.RunInitRuns()"
   ]
  },
  {
   "cell_type": "markdown",
   "metadata": {},
   "source": [
    "* Show and change the list of Runs for precomputation:"
   ]
  },
  {
   "cell_type": "code",
   "execution_count": null,
   "metadata": {},
   "outputs": [],
   "source": [
    "Job1.listofruns"
   ]
  },
  {
   "cell_type": "markdown",
   "metadata": {},
   "source": [
    "* Run the Runs\n",
    "* NOT IMPLEMENTED YET"
   ]
  },
  {
   "cell_type": "code",
   "execution_count": null,
   "metadata": {},
   "outputs": [],
   "source": [
    "Job1.Runserial()"
   ]
  }
 ],
 "metadata": {
  "kernelspec": {
   "display_name": "Python 3",
   "language": "python",
   "name": "python3"
  },
  "language_info": {
   "codemirror_mode": {
    "name": "ipython",
    "version": 3
   },
   "file_extension": ".py",
   "mimetype": "text/x-python",
   "name": "python",
   "nbconvert_exporter": "python",
   "pygments_lexer": "ipython3",
   "version": "3.7.3"
  }
 },
 "nbformat": 4,
 "nbformat_minor": 2
}
