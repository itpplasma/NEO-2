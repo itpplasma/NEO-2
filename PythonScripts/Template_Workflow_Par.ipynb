{
 "cells": [
  {
   "cell_type": "markdown",
   "metadata": {},
   "source": [
    "# Workflow for Par version of Neo-2"
   ]
  },
  {
   "cell_type": "markdown",
   "metadata": {},
   "source": [
    "## WARNING: This is a template, do not edit/use it in the neo-2 code folder. Make a copy to the folder where you want to work (e.g. /temp/_username_/), and use that one."
   ]
  },
  {
   "cell_type": "markdown",
   "metadata": {},
   "source": [
    "Example notebook to demonstrate/teach basic usage of the Python code and a basic workflow on how to get/plot data.\n",
    "\n",
    "This is thought as addition to the '2018_Documentation.pdf', not as a replacement.\n",
    "\n",
    "Here we will not start a single run, but a whole scan over radius.\n",
    "\n",
    "Before starting:\n",
    "- check out the code from github (acount required) if you have not already.\n",
    "- set the environment variable 'NEO2PATH' to your neo-2 directory in .bashrc (or equivalent of your system)."
   ]
  },
  {
   "cell_type": "markdown",
   "metadata": {},
   "source": [
    "This first cell makes sure that the python scripts of the neo2 repository can be found. This is done by making use of the 'NEO2PATH' environment variable."
   ]
  },
  {
   "cell_type": "markdown",
   "metadata": {},
   "source": [
    "_HINT: those cells with a 'In' next to it, are input cells, to execute one, first activate the cell, e.g. by clicking on it, and then press **shift+enter**.\n",
    "Another possibility is to use the entry **Cell -> Run Cells** in the menu above_"
   ]
  },
  {
   "cell_type": "code",
   "execution_count": null,
   "metadata": {},
   "outputs": [],
   "source": [
    "import sys\n",
    "import os\n",
    "try:\n",
    "  sys.path.append(os.path.join(os.environ['NEO2PATH'], 'PythonScripts'))\n",
    "except KeyError:\n",
    "  print(\"You need to set NEO2PATH in your .bashrc, e.g. export NEO2PATH=$HOME/neo-2/\")"
   ]
  },
  {
   "cell_type": "markdown",
   "metadata": {},
   "source": [
    "The second cell imports the modules/functions/classes we will use.\n",
    "This is done in one place to have a good overview of dependencies.\n",
    "For the same reason module names are retained: so it is easy to see where a command comes from."
   ]
  },
  {
   "cell_type": "code",
   "execution_count": null,
   "metadata": {},
   "outputs": [],
   "source": [
    "# System\n",
    "import shutil\n",
    "#import sys # this and os are already imported, as they are required for setting the path.\n",
    "#import os\n",
    "\n",
    "# Third party\n",
    "\n",
    "# Own (neo2/libneo)\n",
    "import create_surf\n",
    "import neo2tools\n",
    "import scan_nonhdf5_tools"
   ]
  },
  {
   "cell_type": "code",
   "execution_count": null,
   "metadata": {},
   "outputs": [],
   "source": [
    "# if relative, then relative to path where notebook was started(?), only subdirectories allowed(?)\n",
    "workingdirectory = '/temp/buchholz/Scans/Recreate_Gernots_Results/w7x_test2/s1.000000000m03/'\n",
    "scan = neo2tools.Neo2Scan(wdir=workingdirectory, templatepath=None)"
   ]
  },
  {
   "cell_type": "markdown",
   "metadata": {},
   "source": [
    "### Compiling of the code"
   ]
  },
  {
   "cell_type": "markdown",
   "metadata": {},
   "source": [
    "For now we assume this has already been done, i.e. the compiled code is already available."
   ]
  },
  {
   "cell_type": "markdown",
   "metadata": {},
   "source": [
    "### Get required (input) files"
   ]
  },
  {
   "cell_type": "markdown",
   "metadata": {},
   "source": [
    "For a Neo-2 run basic input files are:\n",
    "- neo.in (exactly this name, settings file)\n",
    "- boozer file (magnetic equilibrium)\n",
    "- profile file\n",
    "- neo2.in (exactly this name, namelist file)\n",
    "\n",
    "Copy the first three files into the work folder.\n",
    "Additionally you will need\n",
    "\n",
    "- create_surfaces.in\n",
    "- create_surfaces.x\n",
    "\n",
    "(e.g. from /proj/plasma/Neo2/Interface/Create_Surfaces/). The former should be copied into the work folder, while the later might be linked.\n",
    "Make sure that the first non-comment line in neo.in matches the name of the boozer file you use.\n",
    "\n",
    "In the work directory create a subdirectory called 'TEMPLATE_DIR', which will be used to create the folders for the flux surfaces.\n",
    "Into this folder copy the executable neo_2.x, neo2.in, the boozer file, and a copy of neo2.in.\n",
    "\n",
    "Additionally you will need a configuration file for condor. An example is DOC/condor_submit_example, in the NEO2PATH.\n",
    "Note that the approach in this example is different from those used in the '2018_Documentation.pdf'."
   ]
  },
  {
   "cell_type": "code",
   "execution_count": null,
   "metadata": {},
   "outputs": [],
   "source": [
    "os.mkdir(workingdirectory)\n",
    "os.chdir(workingdirectory)\n",
    "os.mkdir(os.path.join(workingdirectory, 'TEMPLATE_DIR'))\n",
    "\n",
    "# Note: either uncomment the following lines and fill in the proper locations and names,\n",
    "# or copy the files externaly, e.g. in a file browser.\n",
    "#shutil.copy('REPLACE_ME/neo.in', './')\n",
    "#shutil.copy('REPLACE_ME/boozer_file.bc', './')\n",
    "#shutil.copy('REPLACE_ME/profile_file', './')\n",
    "\n",
    "shutil.copy('/proj/plasma/Neo2/Interface/Create_Surfaces/create_surfaces.in', './')\n",
    "shutil.copy('/proj/plasma/Neo2/Interface/Create_Surfaces/create_surfaces.x', './')\n",
    "\n",
    "shutil.copy(os.path.join(os.environ['NEO2PATH'], 'DOC/condor_submit_example'), './submit')"
   ]
  },
  {
   "cell_type": "markdown",
   "metadata": {},
   "source": [
    "### Create files and folders"
   ]
  },
  {
   "cell_type": "markdown",
   "metadata": {},
   "source": [
    "First step is now to run create_surfaces.x"
   ]
  },
  {
   "cell_type": "code",
   "execution_count": null,
   "metadata": {},
   "outputs": [],
   "source": [
    "os.system('./create_surfaces.x')"
   ]
  },
  {
   "cell_type": "markdown",
   "metadata": {},
   "source": [
    "This interpolates the given input profile into the desired radial output locations (written to 'surfaces.dat'), as specified in create_surfaces.in.\n",
    "\n",
    "The next step now actually creates the folders required for the radial scan.\n",
    "This can be done with the python function create_surfaces(). This takes the output of the executable and the content from the 'TEMPLATE_DIR' folder to create a folder for each flux surface. The place holders in neo2.in are replaced with the actual values."
   ]
  },
  {
   "cell_type": "code",
   "execution_count": null,
   "metadata": {},
   "outputs": [],
   "source": [
    "create_surf.create_surfaces()"
   ]
  },
  {
   "cell_type": "markdown",
   "metadata": {},
   "source": [
    "### Start simulations"
   ]
  },
  {
   "cell_type": "markdown",
   "metadata": {},
   "source": [
    "All the folders and files are now created and have the required values. So we can now start the simulations."
   ]
  },
  {
   "cell_type": "code",
   "execution_count": null,
   "metadata": {},
   "outputs": [],
   "source": [
    "os.system('condor_submit submit')"
   ]
  },
  {
   "cell_type": "markdown",
   "metadata": {},
   "source": [
    "Now we have to wait until the jobs are finished. Once this is the case we can continue here.\n",
    "\n",
    "Unfortunately multiple runs are necessary, with the parameter 'prop_reconstruct' of the namelist propagator changed. There is a function to do this:"
   ]
  },
  {
   "cell_type": "code",
   "execution_count": null,
   "metadata": {},
   "outputs": [],
   "source": [
    "scan_nonhdf5_tools.set_neo2in_reconstruction(folder='./',\n",
    "                                             subfolder_pattern='s[123456789].*',\n",
    "                                             backup=True,\n",
    "                                             value=1)\n",
    "os.system('condor_submit submit')"
   ]
  },
  {
   "cell_type": "markdown",
   "metadata": {},
   "source": [
    "We are still not done, two more runs are required."
   ]
  },
  {
   "cell_type": "code",
   "execution_count": null,
   "metadata": {},
   "outputs": [],
   "source": [
    "scan_nonhdf5_tools.set_neo2in_reconstruction(folder='./',\n",
    "                                             subfolder_pattern='s[123456789].*',\n",
    "                                             backup=False,\n",
    "                                             value=2)\n",
    "os.system('condor_submit submit')"
   ]
  },
  {
   "cell_type": "code",
   "execution_count": null,
   "metadata": {},
   "outputs": [],
   "source": [
    "scan_nonhdf5_tools.set_neo2in_reconstruction(folder='./',\n",
    "                                             subfolder_pattern='s[123456789].*',\n",
    "                                             backup=False,\n",
    "                                             value=3)\n",
    "os.system('condor_submit submit')"
   ]
  },
  {
   "cell_type": "markdown",
   "metadata": {},
   "source": [
    "Now the scan is actually finished and we can check on the data.\n",
    "\n",
    "_NOTE: some data may already be available after the first or the third run, but unless you know what you are doing stick to doing all four runs._"
   ]
  },
  {
   "cell_type": "markdown",
   "metadata": {},
   "source": [
    "### Some data collecting"
   ]
  },
  {
   "cell_type": "markdown",
   "metadata": {},
   "source": [
    "Here we will collect the data and make some preparations for plotting them.\n",
    "\n",
    "Running of neo2_g.x falls into both categories. The program will calculate the distribution function for a given number of points and write these data to a single hdf5 file."
   ]
  },
  {
   "cell_type": "code",
   "execution_count": null,
   "metadata": {},
   "outputs": [],
   "source": [
    "# collection into a single final.h5?\n",
    "\n",
    "if not os.path.isdir(os.path.join(workingdirectory, 'PLOTS')):\n",
    "  os.mkdir(os.path.join(workingdirectory, 'PLOTS'))\n",
    "os.chdir(os.path.join(workingdirectory, 'PLOTS'))\n",
    "\n",
    "if not os.path.islink('neo2_g.x'):\n",
    "  os.symlink('/proj/plasma/Neo2/Interface/Spitzer_Interface/Build/neo2_g.x', 'neo2_g.x')\n",
    "#/proj/plasma/Neo2/Interface/Spitzer_Interface/Build/dentf_lorentz.x\n",
    "\n",
    "if not os.path.isfile('g_vs_lambda.in'):\n",
    "  shutil.copy('/proj/plasma/Neo2/Interface/Examples/g_vs_lambda.in', './')\n",
    "if not os.path.isfile('spitzerinterface.in'):\n",
    "  shutil.copy('/proj/plasma/Neo2/Interface/Examples/spitzerinterface.in', './')\n",
    "\n",
    "os.system('./neo2_g.x')"
   ]
  },
  {
   "cell_type": "markdown",
   "metadata": {},
   "source": [
    "### Plot results"
   ]
  },
  {
   "cell_type": "markdown",
   "metadata": {},
   "source": [
    "Now the data can be plotted.\n",
    "So we create an instance of the plotting class and use it to make a plot of the magnetic field line and of the distribution function."
   ]
  },
  {
   "cell_type": "code",
   "execution_count": null,
   "metadata": {},
   "outputs": [],
   "source": [
    "#/proj/plasma/DOCUMENTS/PHD_Gernot/2017_BOOTSTRAP/plot_evolve_h5.m\n",
    "#/proj/plasma/Neo2/Interface/Matlab/plot_g_xfix.m\n",
    "#plot_levels_pgf.m\n",
    "#/proj/plasma/DOCUMENTS/PHD_Gernot/2017_BOOTSTRAP/\n",
    "# count_maxima_bootstrap.m\n",
    "rp = neo2tools.ReconPlot(plotdir='./PLOTS/', rundir=workingdirectory)\n",
    "rp.magnetic_plot(2)\n",
    "rp.g_plot('g', second_dimension_index='100')"
   ]
  },
  {
   "cell_type": "code",
   "execution_count": null,
   "metadata": {},
   "outputs": [],
   "source": []
  }
 ],
 "metadata": {
  "kernelspec": {
   "display_name": "Python 3",
   "language": "python",
   "name": "python3"
  },
  "language_info": {
   "codemirror_mode": {
    "name": "ipython",
    "version": 3
   },
   "file_extension": ".py",
   "mimetype": "text/x-python",
   "name": "python",
   "nbconvert_exporter": "python",
   "pygments_lexer": "ipython3",
   "version": "3.7.3"
  }
 },
 "nbformat": 4,
 "nbformat_minor": 2
}
